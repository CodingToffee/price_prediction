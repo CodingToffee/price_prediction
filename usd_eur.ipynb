{
 "cells": [
  {
   "metadata": {},
   "cell_type": "markdown",
   "source": [
    "# Price prediction of USD EUR pair\n",
    "\n",
    "As raw data we have daylie currency prices of the last ~20 years in an xml file.\n",
    "\n",
    "First lets convert the values of the file to a Dataframe."
   ],
   "id": "8a77807f92f26ee"
  },
  {
   "metadata": {
    "ExecuteTime": {
     "end_time": "2024-10-18T15:59:59.589932Z",
     "start_time": "2024-10-18T15:59:53.564045Z"
    }
   },
   "cell_type": "code",
   "source": "pip install lxml",
   "id": "fbc121e30a2defb3",
   "outputs": [
    {
     "name": "stdout",
     "output_type": "stream",
     "text": [
      "Requirement already satisfied: lxml in c:\\users\\nicol\\miniconda3\\lib\\site-packages (5.3.0)\n",
      "Note: you may need to restart the kernel to use updated packages.\n"
     ]
    }
   ],
   "execution_count": 4
  },
  {
   "metadata": {
    "ExecuteTime": {
     "end_time": "2024-10-18T16:00:00.019783Z",
     "start_time": "2024-10-18T15:59:59.593923Z"
    }
   },
   "cell_type": "code",
   "source": [
    "from bs4 import BeautifulSoup\n",
    "import pandas as pd\n",
    "\n",
    "\n",
    "# Reading the data inside the xml\n",
    "# file to a variable under the name \n",
    "# data\n",
    "with open('data/usd.xml', 'r') as f:\n",
    "    data = f.read()\n",
    "\n",
    "# Passing the stored data inside\n",
    "# the beautifulsoup parser, storing\n",
    "# the returned object \n",
    "soup = BeautifulSoup(data, \"xml\")\n",
    "\n",
    "time_periods = [obs['TIME_PERIOD'] for obs in soup.find_all('Obs')]\n",
    "values = [obs['OBS_VALUE'] for obs in soup.find_all('Obs')]\n",
    "\n",
    "data = pd.DataFrame({'Timestamp': time_periods, 'Price': values})\n",
    "\n",
    "data.head\n"
   ],
   "id": "9be275311e54208e",
   "outputs": [
    {
     "data": {
      "text/plain": [
       "<bound method NDFrame.head of        Timestamp   Price\n",
       "0     1999-01-04  1.1789\n",
       "1     1999-01-05  1.1790\n",
       "2     1999-01-06  1.1743\n",
       "3     1999-01-07  1.1632\n",
       "4     1999-01-08  1.1659\n",
       "...          ...     ...\n",
       "6603  2024-10-14  1.0915\n",
       "6604  2024-10-15  1.0903\n",
       "6605  2024-10-16  1.0897\n",
       "6606  2024-10-17  1.0866\n",
       "6607  2024-10-18  1.0847\n",
       "\n",
       "[6608 rows x 2 columns]>"
      ]
     },
     "execution_count": 5,
     "metadata": {},
     "output_type": "execute_result"
    }
   ],
   "execution_count": 5
  },
  {
   "metadata": {},
   "cell_type": "markdown",
   "source": "Check if the data is already clean",
   "id": "7f721d279fd9080e"
  },
  {
   "metadata": {
    "ExecuteTime": {
     "end_time": "2024-10-18T16:00:00.112535Z",
     "start_time": "2024-10-18T16:00:00.021779Z"
    }
   },
   "cell_type": "code",
   "source": [
    "# Convert OBS_VALUE to numeric\n",
    "data['Price'] = pd.to_numeric(data['Price'])\n",
    "\n",
    "# Get all statistical info\n",
    "stats = data['Price'].describe()\n",
    "\n",
    "print(stats)"
   ],
   "id": "b1dd62d10f527a2e",
   "outputs": [
    {
     "name": "stdout",
     "output_type": "stream",
     "text": [
      "count    6608.000000\n",
      "mean        1.185255\n",
      "std         0.155542\n",
      "min         0.825200\n",
      "25%         1.085600\n",
      "50%         1.176050\n",
      "75%         1.303225\n",
      "max         1.599000\n",
      "Name: Price, dtype: float64\n"
     ]
    }
   ],
   "execution_count": 6
  },
  {
   "metadata": {},
   "cell_type": "markdown",
   "source": [
    "# Prepare data for the model\n",
    "To do this we will create lagged features and split the data into training and testset.\n",
    "But first we will fill out the weekend gaps."
   ],
   "id": "b5b96ed0e47561f"
  },
  {
   "metadata": {
    "ExecuteTime": {
     "end_time": "2024-10-18T16:00:00.204290Z",
     "start_time": "2024-10-18T16:00:00.115528Z"
    }
   },
   "cell_type": "code",
   "source": [
    "# Convert TIME_PERIOD to datetime and OBS_VALUE to numeric\n",
    "data['Timestamp'] = pd.to_datetime(data['Timestamp'])\n",
    "data['Price'] = pd.to_numeric(data['Price'])\n",
    "\n",
    "# Set TIME_PERIOD as index\n",
    "data.set_index('Timestamp', inplace=True)\n",
    "\n",
    "# Resample to include all days and fill gaps (e.g., using forward-fill)\n",
    "df_resampled = data.resample('D').ffill()  # Use 'D' for daily frequency\n",
    "\n",
    "data.tail(10)"
   ],
   "id": "6ea584567ceb507c",
   "outputs": [
    {
     "data": {
      "text/plain": [
       "             Price\n",
       "Timestamp         \n",
       "2024-10-07  1.0982\n",
       "2024-10-08  1.0982\n",
       "2024-10-09  1.0957\n",
       "2024-10-10  1.0932\n",
       "2024-10-11  1.0938\n",
       "2024-10-14  1.0915\n",
       "2024-10-15  1.0903\n",
       "2024-10-16  1.0897\n",
       "2024-10-17  1.0866\n",
       "2024-10-18  1.0847"
      ],
      "text/html": [
       "<div>\n",
       "<style scoped>\n",
       "    .dataframe tbody tr th:only-of-type {\n",
       "        vertical-align: middle;\n",
       "    }\n",
       "\n",
       "    .dataframe tbody tr th {\n",
       "        vertical-align: top;\n",
       "    }\n",
       "\n",
       "    .dataframe thead th {\n",
       "        text-align: right;\n",
       "    }\n",
       "</style>\n",
       "<table border=\"1\" class=\"dataframe\">\n",
       "  <thead>\n",
       "    <tr style=\"text-align: right;\">\n",
       "      <th></th>\n",
       "      <th>Price</th>\n",
       "    </tr>\n",
       "    <tr>\n",
       "      <th>Timestamp</th>\n",
       "      <th></th>\n",
       "    </tr>\n",
       "  </thead>\n",
       "  <tbody>\n",
       "    <tr>\n",
       "      <th>2024-10-07</th>\n",
       "      <td>1.0982</td>\n",
       "    </tr>\n",
       "    <tr>\n",
       "      <th>2024-10-08</th>\n",
       "      <td>1.0982</td>\n",
       "    </tr>\n",
       "    <tr>\n",
       "      <th>2024-10-09</th>\n",
       "      <td>1.0957</td>\n",
       "    </tr>\n",
       "    <tr>\n",
       "      <th>2024-10-10</th>\n",
       "      <td>1.0932</td>\n",
       "    </tr>\n",
       "    <tr>\n",
       "      <th>2024-10-11</th>\n",
       "      <td>1.0938</td>\n",
       "    </tr>\n",
       "    <tr>\n",
       "      <th>2024-10-14</th>\n",
       "      <td>1.0915</td>\n",
       "    </tr>\n",
       "    <tr>\n",
       "      <th>2024-10-15</th>\n",
       "      <td>1.0903</td>\n",
       "    </tr>\n",
       "    <tr>\n",
       "      <th>2024-10-16</th>\n",
       "      <td>1.0897</td>\n",
       "    </tr>\n",
       "    <tr>\n",
       "      <th>2024-10-17</th>\n",
       "      <td>1.0866</td>\n",
       "    </tr>\n",
       "    <tr>\n",
       "      <th>2024-10-18</th>\n",
       "      <td>1.0847</td>\n",
       "    </tr>\n",
       "  </tbody>\n",
       "</table>\n",
       "</div>"
      ]
     },
     "execution_count": 7,
     "metadata": {},
     "output_type": "execute_result"
    }
   ],
   "execution_count": 7
  },
  {
   "metadata": {
    "ExecuteTime": {
     "end_time": "2024-10-18T16:00:01.862856Z",
     "start_time": "2024-10-18T16:00:00.212270Z"
    }
   },
   "cell_type": "code",
   "source": [
    "# create lagged features\n",
    "\n",
    "import numpy as np\n",
    "\n",
    "def create_sequences(data, n_timesteps):\n",
    "    X = []\n",
    "    y = []\n",
    "    for i in range(len(data) - n_timesteps):\n",
    "        # Input sequence (last n_timesteps of humidity, light, temperature)\n",
    "        X.append(data[i:i + n_timesteps])\n",
    "        # Target (humidity and temperature for the next timestep)\n",
    "        y.append(data.iloc[i+n_timesteps]['Price'])  # 0 for humidity, 2 for temperature\n",
    "    return np.array(X), np.array(y)\n",
    "\n",
    "n_timesteps = 5  # Use past 12 time steps (1 Hour) to predict the next step\n",
    "X, y = create_sequences(data, n_timesteps)\n",
    "\n",
    "print(X.shape)\n",
    "print(X[0])\n",
    "print(y.shape)\n",
    "print(y[0])"
   ],
   "id": "1874b09b88b76cd7",
   "outputs": [
    {
     "name": "stdout",
     "output_type": "stream",
     "text": [
      "(6603, 5, 1)\n",
      "[[1.1789]\n",
      " [1.179 ]\n",
      " [1.1743]\n",
      " [1.1632]\n",
      " [1.1659]]\n",
      "(6603,)\n",
      "1.1569\n"
     ]
    }
   ],
   "execution_count": 8
  },
  {
   "metadata": {
    "ExecuteTime": {
     "end_time": "2024-10-18T16:00:01.877816Z",
     "start_time": "2024-10-18T16:00:01.866847Z"
    }
   },
   "cell_type": "code",
   "source": [
    "# create the test and train set\n",
    "TEST_SPLIT = 0.1\n",
    "\n",
    "#data = data.drop(columns = ['Wind', 'Solar'])\n",
    "train_size = int(len(X) * (1-TEST_SPLIT))\n",
    "test_size = len(X) - train_size\n",
    "\n",
    "X_train = X[0:train_size]\n",
    "X_test = X[train_size:len(y)]\n",
    "y_train = y[0:train_size]\n",
    "y_test = y[train_size:len(y)]"
   ],
   "id": "6d1915c20352c79b",
   "outputs": [],
   "execution_count": 9
  },
  {
   "metadata": {},
   "cell_type": "markdown",
   "source": "# Modelling",
   "id": "fe1247387b4f0a52"
  },
  {
   "metadata": {
    "ExecuteTime": {
     "end_time": "2024-10-18T16:01:40.509086Z",
     "start_time": "2024-10-18T16:01:39.790009Z"
    }
   },
   "cell_type": "code",
   "source": [
    "# create the model\n",
    "\n",
    "import tensorflow as tf\n",
    "import keras as keras\n",
    "from keras.models import Sequential\n",
    "from keras.layers import *\n",
    "from keras.callbacks import ModelCheckpoint\n",
    "from keras.losses import MeanSquaredError\n",
    "from keras.metrics import RootMeanSquaredError\n",
    "from keras.optimizers import Adam\n",
    "\n",
    "model = Sequential()\n",
    "model.add(InputLayer((n_timesteps, 1))) # 3 features\n",
    "model.add(LSTM(64))\n",
    "model.add(Dense(8, 'relu'))\n",
    "model.add(Dense(2, 'linear'))\n",
    "\n",
    "model.summary()"
   ],
   "id": "67eb82ab411bcf1f",
   "outputs": [
    {
     "name": "stdout",
     "output_type": "stream",
     "text": [
      "Model: \"sequential_3\"\n",
      "_________________________________________________________________\n",
      " Layer (type)                Output Shape              Param #   \n",
      "=================================================================\n",
      " lstm_1 (LSTM)               (None, 64)                16896     \n",
      "                                                                 \n",
      " dense_2 (Dense)             (None, 8)                 520       \n",
      "                                                                 \n",
      " dense_3 (Dense)             (None, 2)                 18        \n",
      "                                                                 \n",
      "=================================================================\n",
      "Total params: 17,434\n",
      "Trainable params: 17,434\n",
      "Non-trainable params: 0\n",
      "_________________________________________________________________\n"
     ]
    }
   ],
   "execution_count": 13
  },
  {
   "metadata": {
    "ExecuteTime": {
     "end_time": "2024-10-18T16:01:43.412099Z",
     "start_time": "2024-10-18T16:01:43.378169Z"
    }
   },
   "cell_type": "code",
   "source": [
    "cp = ModelCheckpoint('models/model.h5', save_best_only=True)\n",
    "model.compile(loss=MeanSquaredError(), optimizer=Adam(learning_rate=0.001), metrics=[RootMeanSquaredError()])"
   ],
   "id": "60c332e0eb9df2be",
   "outputs": [],
   "execution_count": 14
  },
  {
   "metadata": {
    "ExecuteTime": {
     "end_time": "2024-10-18T16:02:27.345349Z",
     "start_time": "2024-10-18T16:01:50.539641Z"
    }
   },
   "cell_type": "code",
   "source": "model.fit(X_train, y_train, epochs=50, batch_size=32, validation_split=0.1, callbacks=[cp])",
   "id": "4c94aaa2a49cc7d",
   "outputs": [
    {
     "name": "stdout",
     "output_type": "stream",
     "text": [
      "Epoch 1/50\n",
      "168/168 [==============================] - 5s 8ms/step - loss: 0.1244 - root_mean_squared_error: 0.3527 - val_loss: 2.4879e-04 - val_root_mean_squared_error: 0.0158\n",
      "Epoch 2/50\n",
      "168/168 [==============================] - 1s 4ms/step - loss: 6.9598e-04 - root_mean_squared_error: 0.0264 - val_loss: 1.0632e-04 - val_root_mean_squared_error: 0.0103\n",
      "Epoch 3/50\n",
      "168/168 [==============================] - 1s 5ms/step - loss: 2.6763e-04 - root_mean_squared_error: 0.0164 - val_loss: 6.3076e-05 - val_root_mean_squared_error: 0.0079\n",
      "Epoch 4/50\n",
      "168/168 [==============================] - 1s 5ms/step - loss: 1.5638e-04 - root_mean_squared_error: 0.0125 - val_loss: 6.2727e-05 - val_root_mean_squared_error: 0.0079\n",
      "Epoch 5/50\n",
      "168/168 [==============================] - 1s 4ms/step - loss: 1.4427e-04 - root_mean_squared_error: 0.0120 - val_loss: 7.9961e-05 - val_root_mean_squared_error: 0.0089\n",
      "Epoch 6/50\n",
      "168/168 [==============================] - 1s 4ms/step - loss: 1.4373e-04 - root_mean_squared_error: 0.0120 - val_loss: 6.2503e-05 - val_root_mean_squared_error: 0.0079\n",
      "Epoch 7/50\n",
      "168/168 [==============================] - 1s 4ms/step - loss: 1.4388e-04 - root_mean_squared_error: 0.0120 - val_loss: 6.8815e-05 - val_root_mean_squared_error: 0.0083\n",
      "Epoch 8/50\n",
      "168/168 [==============================] - 1s 4ms/step - loss: 1.4689e-04 - root_mean_squared_error: 0.0121 - val_loss: 6.2805e-05 - val_root_mean_squared_error: 0.0079\n",
      "Epoch 9/50\n",
      "168/168 [==============================] - 1s 4ms/step - loss: 1.4462e-04 - root_mean_squared_error: 0.0120 - val_loss: 6.2990e-05 - val_root_mean_squared_error: 0.0079\n",
      "Epoch 10/50\n",
      "168/168 [==============================] - 1s 4ms/step - loss: 1.4466e-04 - root_mean_squared_error: 0.0120 - val_loss: 6.2493e-05 - val_root_mean_squared_error: 0.0079\n",
      "Epoch 11/50\n",
      "168/168 [==============================] - 1s 4ms/step - loss: 1.4579e-04 - root_mean_squared_error: 0.0121 - val_loss: 6.7448e-05 - val_root_mean_squared_error: 0.0082\n",
      "Epoch 12/50\n",
      "168/168 [==============================] - 1s 4ms/step - loss: 1.4128e-04 - root_mean_squared_error: 0.0119 - val_loss: 6.7739e-05 - val_root_mean_squared_error: 0.0082\n",
      "Epoch 13/50\n",
      "168/168 [==============================] - 1s 4ms/step - loss: 1.4278e-04 - root_mean_squared_error: 0.0119 - val_loss: 1.0197e-04 - val_root_mean_squared_error: 0.0101\n",
      "Epoch 14/50\n",
      "168/168 [==============================] - 1s 4ms/step - loss: 1.4954e-04 - root_mean_squared_error: 0.0122 - val_loss: 9.3832e-05 - val_root_mean_squared_error: 0.0097\n",
      "Epoch 15/50\n",
      "168/168 [==============================] - 1s 4ms/step - loss: 1.5194e-04 - root_mean_squared_error: 0.0123 - val_loss: 7.1310e-05 - val_root_mean_squared_error: 0.0084\n",
      "Epoch 16/50\n",
      "168/168 [==============================] - 1s 4ms/step - loss: 1.4945e-04 - root_mean_squared_error: 0.0122 - val_loss: 7.6272e-05 - val_root_mean_squared_error: 0.0087\n",
      "Epoch 17/50\n",
      "168/168 [==============================] - 1s 4ms/step - loss: 1.5058e-04 - root_mean_squared_error: 0.0123 - val_loss: 1.5137e-04 - val_root_mean_squared_error: 0.0123\n",
      "Epoch 18/50\n",
      "168/168 [==============================] - 1s 5ms/step - loss: 1.4455e-04 - root_mean_squared_error: 0.0120 - val_loss: 6.1329e-05 - val_root_mean_squared_error: 0.0078\n",
      "Epoch 19/50\n",
      "168/168 [==============================] - 1s 4ms/step - loss: 1.5409e-04 - root_mean_squared_error: 0.0124 - val_loss: 1.1172e-04 - val_root_mean_squared_error: 0.0106\n",
      "Epoch 20/50\n",
      "168/168 [==============================] - 1s 4ms/step - loss: 1.6772e-04 - root_mean_squared_error: 0.0130 - val_loss: 8.0433e-05 - val_root_mean_squared_error: 0.0090\n",
      "Epoch 21/50\n",
      "168/168 [==============================] - 1s 4ms/step - loss: 1.6582e-04 - root_mean_squared_error: 0.0129 - val_loss: 2.5532e-04 - val_root_mean_squared_error: 0.0160\n",
      "Epoch 22/50\n",
      "168/168 [==============================] - 1s 4ms/step - loss: 1.5015e-04 - root_mean_squared_error: 0.0123 - val_loss: 1.8095e-04 - val_root_mean_squared_error: 0.0135\n",
      "Epoch 23/50\n",
      "168/168 [==============================] - 1s 4ms/step - loss: 1.6691e-04 - root_mean_squared_error: 0.0129 - val_loss: 1.6007e-04 - val_root_mean_squared_error: 0.0127\n",
      "Epoch 24/50\n",
      "168/168 [==============================] - 1s 4ms/step - loss: 1.5669e-04 - root_mean_squared_error: 0.0125 - val_loss: 1.4076e-04 - val_root_mean_squared_error: 0.0119\n",
      "Epoch 25/50\n",
      "168/168 [==============================] - 1s 4ms/step - loss: 1.6101e-04 - root_mean_squared_error: 0.0127 - val_loss: 5.9053e-05 - val_root_mean_squared_error: 0.0077\n",
      "Epoch 26/50\n",
      "168/168 [==============================] - 1s 4ms/step - loss: 1.6155e-04 - root_mean_squared_error: 0.0127 - val_loss: 5.9624e-05 - val_root_mean_squared_error: 0.0077\n",
      "Epoch 27/50\n",
      "168/168 [==============================] - 1s 6ms/step - loss: 1.5069e-04 - root_mean_squared_error: 0.0123 - val_loss: 6.4073e-05 - val_root_mean_squared_error: 0.0080\n",
      "Epoch 28/50\n",
      "168/168 [==============================] - 1s 4ms/step - loss: 1.5264e-04 - root_mean_squared_error: 0.0124 - val_loss: 8.9637e-05 - val_root_mean_squared_error: 0.0095\n",
      "Epoch 29/50\n",
      "168/168 [==============================] - 1s 4ms/step - loss: 1.4950e-04 - root_mean_squared_error: 0.0122 - val_loss: 7.0784e-05 - val_root_mean_squared_error: 0.0084\n",
      "Epoch 30/50\n",
      "168/168 [==============================] - 1s 4ms/step - loss: 1.6182e-04 - root_mean_squared_error: 0.0127 - val_loss: 1.7763e-04 - val_root_mean_squared_error: 0.0133\n",
      "Epoch 31/50\n",
      "168/168 [==============================] - 1s 4ms/step - loss: 1.6083e-04 - root_mean_squared_error: 0.0127 - val_loss: 5.7190e-05 - val_root_mean_squared_error: 0.0076\n",
      "Epoch 32/50\n",
      "168/168 [==============================] - 1s 4ms/step - loss: 1.4942e-04 - root_mean_squared_error: 0.0122 - val_loss: 7.0405e-05 - val_root_mean_squared_error: 0.0084\n",
      "Epoch 33/50\n",
      "168/168 [==============================] - 1s 4ms/step - loss: 1.6177e-04 - root_mean_squared_error: 0.0127 - val_loss: 8.3639e-05 - val_root_mean_squared_error: 0.0091\n",
      "Epoch 34/50\n",
      "168/168 [==============================] - 1s 3ms/step - loss: 1.5092e-04 - root_mean_squared_error: 0.0123 - val_loss: 6.2680e-05 - val_root_mean_squared_error: 0.0079\n",
      "Epoch 35/50\n",
      "168/168 [==============================] - 1s 4ms/step - loss: 1.4293e-04 - root_mean_squared_error: 0.0120 - val_loss: 7.8529e-05 - val_root_mean_squared_error: 0.0089\n",
      "Epoch 36/50\n",
      "168/168 [==============================] - 1s 3ms/step - loss: 1.5304e-04 - root_mean_squared_error: 0.0124 - val_loss: 1.4660e-04 - val_root_mean_squared_error: 0.0121\n",
      "Epoch 37/50\n",
      "168/168 [==============================] - 1s 4ms/step - loss: 1.8080e-04 - root_mean_squared_error: 0.0134 - val_loss: 7.1351e-05 - val_root_mean_squared_error: 0.0084\n",
      "Epoch 38/50\n",
      "168/168 [==============================] - 1s 4ms/step - loss: 1.4961e-04 - root_mean_squared_error: 0.0122 - val_loss: 5.5177e-05 - val_root_mean_squared_error: 0.0074\n",
      "Epoch 39/50\n",
      "168/168 [==============================] - 1s 4ms/step - loss: 1.4857e-04 - root_mean_squared_error: 0.0122 - val_loss: 5.6118e-05 - val_root_mean_squared_error: 0.0075\n",
      "Epoch 40/50\n",
      "168/168 [==============================] - 1s 4ms/step - loss: 1.5181e-04 - root_mean_squared_error: 0.0123 - val_loss: 9.8338e-05 - val_root_mean_squared_error: 0.0099\n",
      "Epoch 41/50\n",
      "168/168 [==============================] - 1s 4ms/step - loss: 1.3742e-04 - root_mean_squared_error: 0.0117 - val_loss: 7.8824e-05 - val_root_mean_squared_error: 0.0089\n",
      "Epoch 42/50\n",
      "168/168 [==============================] - 1s 4ms/step - loss: 1.4250e-04 - root_mean_squared_error: 0.0119 - val_loss: 1.1994e-04 - val_root_mean_squared_error: 0.0110\n",
      "Epoch 43/50\n",
      "168/168 [==============================] - 1s 4ms/step - loss: 1.5689e-04 - root_mean_squared_error: 0.0125 - val_loss: 6.4868e-05 - val_root_mean_squared_error: 0.0081\n",
      "Epoch 44/50\n",
      "168/168 [==============================] - 1s 3ms/step - loss: 1.6609e-04 - root_mean_squared_error: 0.0129 - val_loss: 7.3552e-05 - val_root_mean_squared_error: 0.0086\n",
      "Epoch 45/50\n",
      "168/168 [==============================] - 1s 4ms/step - loss: 1.3865e-04 - root_mean_squared_error: 0.0118 - val_loss: 1.8749e-04 - val_root_mean_squared_error: 0.0137\n",
      "Epoch 46/50\n",
      "168/168 [==============================] - 1s 4ms/step - loss: 1.4638e-04 - root_mean_squared_error: 0.0121 - val_loss: 5.3206e-05 - val_root_mean_squared_error: 0.0073\n",
      "Epoch 47/50\n",
      "168/168 [==============================] - 1s 3ms/step - loss: 1.4666e-04 - root_mean_squared_error: 0.0121 - val_loss: 3.2089e-04 - val_root_mean_squared_error: 0.0179\n",
      "Epoch 48/50\n",
      "168/168 [==============================] - 1s 3ms/step - loss: 1.5194e-04 - root_mean_squared_error: 0.0123 - val_loss: 5.5371e-05 - val_root_mean_squared_error: 0.0074\n",
      "Epoch 49/50\n",
      "168/168 [==============================] - 1s 4ms/step - loss: 1.5112e-04 - root_mean_squared_error: 0.0123 - val_loss: 9.0022e-05 - val_root_mean_squared_error: 0.0095\n",
      "Epoch 50/50\n",
      "168/168 [==============================] - 1s 3ms/step - loss: 1.3480e-04 - root_mean_squared_error: 0.0116 - val_loss: 5.4164e-05 - val_root_mean_squared_error: 0.0074\n"
     ]
    },
    {
     "data": {
      "text/plain": [
       "<keras.callbacks.History at 0x1c10ec75c40>"
      ]
     },
     "execution_count": 15,
     "metadata": {},
     "output_type": "execute_result"
    }
   ],
   "execution_count": 15
  }
 ],
 "metadata": {
  "kernelspec": {
   "display_name": "Python 3",
   "language": "python",
   "name": "python3"
  },
  "language_info": {
   "codemirror_mode": {
    "name": "ipython",
    "version": 2
   },
   "file_extension": ".py",
   "mimetype": "text/x-python",
   "name": "python",
   "nbconvert_exporter": "python",
   "pygments_lexer": "ipython2",
   "version": "2.7.6"
  }
 },
 "nbformat": 4,
 "nbformat_minor": 5
}
