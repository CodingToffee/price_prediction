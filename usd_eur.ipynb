{
 "cells": [
  {
   "metadata": {},
   "cell_type": "markdown",
   "source": [
    "# Price prediction of USD EUR pair\n",
    "\n",
    "As raw data we have daylie currency prices of the last ~20 years in an xml file.\n",
    "\n",
    "First lets convert the values of the file to a Dataframe."
   ],
   "id": "8a77807f92f26ee"
  },
  {
   "metadata": {
    "ExecuteTime": {
     "end_time": "2024-10-20T08:51:01.783388Z",
     "start_time": "2024-10-20T08:50:59.815985Z"
    }
   },
   "cell_type": "code",
   "source": "pip install lxml",
   "id": "fbc121e30a2defb3",
   "outputs": [
    {
     "name": "stdout",
     "output_type": "stream",
     "text": [
      "Requirement already satisfied: lxml in c:\\users\\nicol\\miniconda3\\lib\\site-packages (5.3.0)\n",
      "Note: you may need to restart the kernel to use updated packages.\n"
     ]
    }
   ],
   "execution_count": 1
  },
  {
   "metadata": {
    "ExecuteTime": {
     "end_time": "2024-10-20T09:05:55.482754Z",
     "start_time": "2024-10-20T09:05:54.402141Z"
    }
   },
   "cell_type": "code",
   "source": [
    "from bs4 import BeautifulSoup\n",
    "import pandas as pd\n",
    "\n",
    "\n",
    "# Reading the data inside the xml\n",
    "# file to a variable under the name \n",
    "# data\n",
    "with open('data/usd.xml', 'r') as f:\n",
    "    data = f.read()\n",
    "\n",
    "# Passing the stored data inside\n",
    "# the beautifulsoup parser, storing\n",
    "# the returned object \n",
    "soup = BeautifulSoup(data, \"xml\")\n",
    "\n",
    "time_periods = [obs['TIME_PERIOD'] for obs in soup.find_all('Obs')]\n",
    "values = [obs['OBS_VALUE'] for obs in soup.find_all('Obs')]\n",
    "\n",
    "data = pd.DataFrame({'Timestamp': time_periods, 'Price': values})\n",
    "\n",
    "data.head\n"
   ],
   "id": "9be275311e54208e",
   "outputs": [
    {
     "data": {
      "text/plain": [
       "<bound method NDFrame.head of        Timestamp   Price\n",
       "0     1999-01-04  1.1789\n",
       "1     1999-01-05  1.1790\n",
       "2     1999-01-06  1.1743\n",
       "3     1999-01-07  1.1632\n",
       "4     1999-01-08  1.1659\n",
       "...          ...     ...\n",
       "6603  2024-10-14  1.0915\n",
       "6604  2024-10-15  1.0903\n",
       "6605  2024-10-16  1.0897\n",
       "6606  2024-10-17  1.0866\n",
       "6607  2024-10-18  1.0847\n",
       "\n",
       "[6608 rows x 2 columns]>"
      ]
     },
     "execution_count": 2,
     "metadata": {},
     "output_type": "execute_result"
    }
   ],
   "execution_count": 2
  },
  {
   "metadata": {},
   "cell_type": "markdown",
   "source": "Check if the data is already clean",
   "id": "7f721d279fd9080e"
  },
  {
   "metadata": {
    "ExecuteTime": {
     "end_time": "2024-10-20T09:20:57.797983Z",
     "start_time": "2024-10-20T09:20:57.784979Z"
    }
   },
   "cell_type": "code",
   "source": [
    "# Convert OBS_VALUE to numeric\n",
    "data['Price'] = pd.to_numeric(data['Price'])\n",
    "\n",
    "# Get all statistical info\n",
    "stats = data['Price'].describe()\n",
    "\n",
    "print(stats)"
   ],
   "id": "b1dd62d10f527a2e",
   "outputs": [
    {
     "name": "stdout",
     "output_type": "stream",
     "text": [
      "count    6608.000000\n",
      "mean        1.185255\n",
      "std         0.155542\n",
      "min         0.825200\n",
      "25%         1.085600\n",
      "50%         1.176050\n",
      "75%         1.303225\n",
      "max         1.599000\n",
      "Name: Price, dtype: float64\n"
     ]
    }
   ],
   "execution_count": 14
  },
  {
   "metadata": {},
   "cell_type": "markdown",
   "source": [
    "# Prepare data for the model\n",
    "To do this we will create lagged features and split the data into training and testset.\n",
    "But first we will fill out the weekend gaps."
   ],
   "id": "b5b96ed0e47561f"
  },
  {
   "metadata": {
    "ExecuteTime": {
     "end_time": "2024-10-20T09:21:00.548672Z",
     "start_time": "2024-10-20T09:21:00.455077Z"
    }
   },
   "cell_type": "code",
   "source": [
    "# Convert TIME_PERIOD to datetime and OBS_VALUE to numeric\n",
    "data['Timestamp'] = pd.to_datetime(data['Timestamp'])\n",
    "data['Price'] = pd.to_numeric(data['Price'])\n",
    "\n",
    "# Set TIME_PERIOD as index\n",
    "data.set_index('Timestamp', inplace=True)\n",
    "\n",
    "# Resample to include all days and fill gaps (e.g., using forward-fill)\n",
    "df_resampled = data.resample('D').ffill()  # Use 'D' for daily frequency\n",
    "\n",
    "data.tail(10)\n",
    "data.info()"
   ],
   "id": "6ea584567ceb507c",
   "outputs": [
    {
     "ename": "KeyError",
     "evalue": "'Timestamp'",
     "output_type": "error",
     "traceback": [
      "\u001B[1;31m---------------------------------------------------------------------------\u001B[0m",
      "\u001B[1;31mKeyError\u001B[0m                                  Traceback (most recent call last)",
      "File \u001B[1;32m~\\miniconda3\\lib\\site-packages\\pandas\\core\\indexes\\base.py:3805\u001B[0m, in \u001B[0;36mIndex.get_loc\u001B[1;34m(self, key)\u001B[0m\n\u001B[0;32m   3804\u001B[0m \u001B[38;5;28;01mtry\u001B[39;00m:\n\u001B[1;32m-> 3805\u001B[0m     \u001B[38;5;28;01mreturn\u001B[39;00m \u001B[38;5;28;43mself\u001B[39;49m\u001B[38;5;241;43m.\u001B[39;49m\u001B[43m_engine\u001B[49m\u001B[38;5;241;43m.\u001B[39;49m\u001B[43mget_loc\u001B[49m\u001B[43m(\u001B[49m\u001B[43mcasted_key\u001B[49m\u001B[43m)\u001B[49m\n\u001B[0;32m   3806\u001B[0m \u001B[38;5;28;01mexcept\u001B[39;00m \u001B[38;5;167;01mKeyError\u001B[39;00m \u001B[38;5;28;01mas\u001B[39;00m err:\n",
      "File \u001B[1;32mindex.pyx:167\u001B[0m, in \u001B[0;36mpandas._libs.index.IndexEngine.get_loc\u001B[1;34m()\u001B[0m\n",
      "File \u001B[1;32mindex.pyx:196\u001B[0m, in \u001B[0;36mpandas._libs.index.IndexEngine.get_loc\u001B[1;34m()\u001B[0m\n",
      "File \u001B[1;32mpandas\\\\_libs\\\\hashtable_class_helper.pxi:7081\u001B[0m, in \u001B[0;36mpandas._libs.hashtable.PyObjectHashTable.get_item\u001B[1;34m()\u001B[0m\n",
      "File \u001B[1;32mpandas\\\\_libs\\\\hashtable_class_helper.pxi:7089\u001B[0m, in \u001B[0;36mpandas._libs.hashtable.PyObjectHashTable.get_item\u001B[1;34m()\u001B[0m\n",
      "\u001B[1;31mKeyError\u001B[0m: 'Timestamp'",
      "\nThe above exception was the direct cause of the following exception:\n",
      "\u001B[1;31mKeyError\u001B[0m                                  Traceback (most recent call last)",
      "Cell \u001B[1;32mIn[15], line 2\u001B[0m\n\u001B[0;32m      1\u001B[0m \u001B[38;5;66;03m# Convert TIME_PERIOD to datetime and OBS_VALUE to numeric\u001B[39;00m\n\u001B[1;32m----> 2\u001B[0m data[\u001B[38;5;124m'\u001B[39m\u001B[38;5;124mTimestamp\u001B[39m\u001B[38;5;124m'\u001B[39m] \u001B[38;5;241m=\u001B[39m pd\u001B[38;5;241m.\u001B[39mto_datetime(\u001B[43mdata\u001B[49m\u001B[43m[\u001B[49m\u001B[38;5;124;43m'\u001B[39;49m\u001B[38;5;124;43mTimestamp\u001B[39;49m\u001B[38;5;124;43m'\u001B[39;49m\u001B[43m]\u001B[49m)\n\u001B[0;32m      3\u001B[0m data[\u001B[38;5;124m'\u001B[39m\u001B[38;5;124mPrice\u001B[39m\u001B[38;5;124m'\u001B[39m] \u001B[38;5;241m=\u001B[39m pd\u001B[38;5;241m.\u001B[39mto_numeric(data[\u001B[38;5;124m'\u001B[39m\u001B[38;5;124mPrice\u001B[39m\u001B[38;5;124m'\u001B[39m])\n\u001B[0;32m      5\u001B[0m \u001B[38;5;66;03m# Set TIME_PERIOD as index\u001B[39;00m\n",
      "File \u001B[1;32m~\\miniconda3\\lib\\site-packages\\pandas\\core\\frame.py:4102\u001B[0m, in \u001B[0;36mDataFrame.__getitem__\u001B[1;34m(self, key)\u001B[0m\n\u001B[0;32m   4100\u001B[0m \u001B[38;5;28;01mif\u001B[39;00m \u001B[38;5;28mself\u001B[39m\u001B[38;5;241m.\u001B[39mcolumns\u001B[38;5;241m.\u001B[39mnlevels \u001B[38;5;241m>\u001B[39m \u001B[38;5;241m1\u001B[39m:\n\u001B[0;32m   4101\u001B[0m     \u001B[38;5;28;01mreturn\u001B[39;00m \u001B[38;5;28mself\u001B[39m\u001B[38;5;241m.\u001B[39m_getitem_multilevel(key)\n\u001B[1;32m-> 4102\u001B[0m indexer \u001B[38;5;241m=\u001B[39m \u001B[38;5;28;43mself\u001B[39;49m\u001B[38;5;241;43m.\u001B[39;49m\u001B[43mcolumns\u001B[49m\u001B[38;5;241;43m.\u001B[39;49m\u001B[43mget_loc\u001B[49m\u001B[43m(\u001B[49m\u001B[43mkey\u001B[49m\u001B[43m)\u001B[49m\n\u001B[0;32m   4103\u001B[0m \u001B[38;5;28;01mif\u001B[39;00m is_integer(indexer):\n\u001B[0;32m   4104\u001B[0m     indexer \u001B[38;5;241m=\u001B[39m [indexer]\n",
      "File \u001B[1;32m~\\miniconda3\\lib\\site-packages\\pandas\\core\\indexes\\base.py:3812\u001B[0m, in \u001B[0;36mIndex.get_loc\u001B[1;34m(self, key)\u001B[0m\n\u001B[0;32m   3807\u001B[0m     \u001B[38;5;28;01mif\u001B[39;00m \u001B[38;5;28misinstance\u001B[39m(casted_key, \u001B[38;5;28mslice\u001B[39m) \u001B[38;5;129;01mor\u001B[39;00m (\n\u001B[0;32m   3808\u001B[0m         \u001B[38;5;28misinstance\u001B[39m(casted_key, abc\u001B[38;5;241m.\u001B[39mIterable)\n\u001B[0;32m   3809\u001B[0m         \u001B[38;5;129;01mand\u001B[39;00m \u001B[38;5;28many\u001B[39m(\u001B[38;5;28misinstance\u001B[39m(x, \u001B[38;5;28mslice\u001B[39m) \u001B[38;5;28;01mfor\u001B[39;00m x \u001B[38;5;129;01min\u001B[39;00m casted_key)\n\u001B[0;32m   3810\u001B[0m     ):\n\u001B[0;32m   3811\u001B[0m         \u001B[38;5;28;01mraise\u001B[39;00m InvalidIndexError(key)\n\u001B[1;32m-> 3812\u001B[0m     \u001B[38;5;28;01mraise\u001B[39;00m \u001B[38;5;167;01mKeyError\u001B[39;00m(key) \u001B[38;5;28;01mfrom\u001B[39;00m \u001B[38;5;21;01merr\u001B[39;00m\n\u001B[0;32m   3813\u001B[0m \u001B[38;5;28;01mexcept\u001B[39;00m \u001B[38;5;167;01mTypeError\u001B[39;00m:\n\u001B[0;32m   3814\u001B[0m     \u001B[38;5;66;03m# If we have a listlike key, _check_indexing_error will raise\u001B[39;00m\n\u001B[0;32m   3815\u001B[0m     \u001B[38;5;66;03m#  InvalidIndexError. Otherwise we fall through and re-raise\u001B[39;00m\n\u001B[0;32m   3816\u001B[0m     \u001B[38;5;66;03m#  the TypeError.\u001B[39;00m\n\u001B[0;32m   3817\u001B[0m     \u001B[38;5;28mself\u001B[39m\u001B[38;5;241m.\u001B[39m_check_indexing_error(key)\n",
      "\u001B[1;31mKeyError\u001B[0m: 'Timestamp'"
     ]
    }
   ],
   "execution_count": 15
  },
  {
   "metadata": {
    "ExecuteTime": {
     "end_time": "2024-10-20T09:22:53.931436Z",
     "start_time": "2024-10-20T09:22:53.725985Z"
    }
   },
   "cell_type": "code",
   "source": [
    "# Plot the data\n",
    "from matplotlib import pyplot as plt\n",
    "\n",
    "plt.plot(data.index, data['Price'])\n",
    "plt.legend()\n",
    "plt.show()\n",
    "\n",
    "data.info()\n"
   ],
   "id": "75148f0b42a81e13",
   "outputs": [
    {
     "name": "stderr",
     "output_type": "stream",
     "text": [
      "No artists with labels found to put in legend.  Note that artists whose label start with an underscore are ignored when legend() is called with no argument.\n"
     ]
    },
    {
     "data": {
      "text/plain": [
       "<Figure size 640x480 with 1 Axes>"
      ],
      "image/png": "[encoded data removed]"
     },
     "metadata": {},
     "output_type": "display_data"
    },
    {
     "name": "stdout",
     "output_type": "stream",
     "text": [
      "<class 'pandas.core.frame.DataFrame'>\n",
      "DatetimeIndex: 6608 entries, 1999-01-04 to 2024-10-18\n",
      "Data columns (total 1 columns):\n",
      " #   Column  Non-Null Count  Dtype  \n",
      "---  ------  --------------  -----  \n",
      " 0   Price   6608 non-null   float64\n",
      "dtypes: float64(1)\n",
      "memory usage: 103.2 KB\n"
     ]
    }
   ],
   "execution_count": 21
  },
  {
   "metadata": {
    "ExecuteTime": {
     "end_time": "2024-10-20T09:34:20.098931Z",
     "start_time": "2024-10-20T09:34:19.073674Z"
    }
   },
   "cell_type": "code",
   "source": [
    "# create lagged features\n",
    "\n",
    "import numpy as np\n",
    "\n",
    "def create_sequences(data, n_timesteps):\n",
    "    X = []\n",
    "    y = []\n",
    "    for i in range(len(data) - n_timesteps):\n",
    "        # Input sequence (last n_timesteps of humidity, light, temperature)\n",
    "        X.append(data[i:i + n_timesteps])\n",
    "        # Target (humidity and temperature for the next timestep)\n",
    "        y.append(data.iloc[i+n_timesteps]['Price'])  # 0 for humidity, 2 for temperature\n",
    "    return np.array(X), np.array(y)\n",
    "\n",
    "n_timesteps = 5  # Use past 12 time steps (1 Hour) to predict the next step\n",
    "X, y = create_sequences(data, n_timesteps)\n",
    "dates = data.index.to_numpy()\n",
    "print(dates[0:5])\n",
    "\n",
    "print(X.shape)\n",
    "print(X[0])\n",
    "print(y.shape)\n",
    "print(y[0])"
   ],
   "id": "1874b09b88b76cd7",
   "outputs": [
    {
     "name": "stdout",
     "output_type": "stream",
     "text": [
      "['1999-01-04T00:00:00.000000000' '1999-01-05T00:00:00.000000000'\n",
      " '1999-01-06T00:00:00.000000000' '1999-01-07T00:00:00.000000000'\n",
      " '1999-01-08T00:00:00.000000000']\n",
      "(6603, 5, 1)\n",
      "[[1.1789]\n",
      " [1.179 ]\n",
      " [1.1743]\n",
      " [1.1632]\n",
      " [1.1659]]\n",
      "(6603,)\n",
      "1.1569\n"
     ]
    }
   ],
   "execution_count": 33
  },
  {
   "metadata": {
    "ExecuteTime": {
     "end_time": "2024-10-20T09:39:11.168538Z",
     "start_time": "2024-10-20T09:39:11.150260Z"
    }
   },
   "cell_type": "code",
   "source": [
    "# create the test and train set\n",
    "TEST_SPLIT = 0.01\n",
    "\n",
    "#data = data.drop(columns = ['Wind', 'Solar'])\n",
    "train_size = int(len(X) * (1-TEST_SPLIT))\n",
    "test_size = len(X) - train_size\n",
    "\n",
    "dates_train = dates[0:train_size]\n",
    "dates_test = dates[train_size:len(y)]\n",
    "X_train = X[0:train_size]\n",
    "X_test = X[train_size:len(y)]\n",
    "y_train = y[0:train_size]\n",
    "y_test = y[train_size:len(y)]"
   ],
   "id": "6d1915c20352c79b",
   "outputs": [],
   "execution_count": 37
  },
  {
   "metadata": {},
   "cell_type": "markdown",
   "source": "# Modelling",
   "id": "fe1247387b4f0a52"
  },
  {
   "metadata": {
    "ExecuteTime": {
     "end_time": "2024-10-20T08:51:08.147427Z",
     "start_time": "2024-10-20T08:51:03.749808Z"
    }
   },
   "cell_type": "code",
   "source": [
    "# create the model\n",
    "\n",
    "import tensorflow as tf\n",
    "import keras as keras\n",
    "from keras.models import Sequential\n",
    "from keras.layers import *\n",
    "from keras.callbacks import ModelCheckpoint\n",
    "from keras.losses import MeanSquaredError\n",
    "from keras.metrics import RootMeanSquaredError\n",
    "from keras.optimizers import Adam\n",
    "\n",
    "model = Sequential()\n",
    "model.add(InputLayer((n_timesteps, 1))) # 1 features\n",
    "model.add(LSTM(64))\n",
    "model.add(Dense(8, 'relu'))\n",
    "model.add(Dense(1, 'linear')) # 1 Outputwert\n",
    "\n",
    "model.summary()"
   ],
   "id": "67eb82ab411bcf1f",
   "outputs": [
    {
     "name": "stdout",
     "output_type": "stream",
     "text": [
      "Model: \"sequential\"\n",
      "_________________________________________________________________\n",
      " Layer (type)                Output Shape              Param #   \n",
      "=================================================================\n",
      " lstm (LSTM)                 (None, 64)                16896     \n",
      "                                                                 \n",
      " dense (Dense)               (None, 8)                 520       \n",
      "                                                                 \n",
      " dense_1 (Dense)             (None, 1)                 9         \n",
      "                                                                 \n",
      "=================================================================\n",
      "Total params: 17,425\n",
      "Trainable params: 17,425\n",
      "Non-trainable params: 0\n",
      "_________________________________________________________________\n"
     ]
    }
   ],
   "execution_count": 7
  },
  {
   "metadata": {
    "ExecuteTime": {
     "end_time": "2024-10-20T08:51:08.178344Z",
     "start_time": "2024-10-20T08:51:08.149421Z"
    }
   },
   "cell_type": "code",
   "source": [
    "cp = ModelCheckpoint('models/model.h5', save_best_only=True)\n",
    "model.compile(loss=MeanSquaredError(), optimizer=Adam(learning_rate=0.001), metrics=[RootMeanSquaredError()])"
   ],
   "id": "60c332e0eb9df2be",
   "outputs": [],
   "execution_count": 8
  },
  {
   "metadata": {
    "ExecuteTime": {
     "end_time": "2024-10-20T08:51:43.093159Z",
     "start_time": "2024-10-20T08:51:08.180339Z"
    }
   },
   "cell_type": "code",
   "source": "model.fit(X_train, y_train, epochs=50, batch_size=32, validation_split=0.1, callbacks=[cp])",
   "id": "4c94aaa2a49cc7d",
   "outputs": [
    {
     "name": "stdout",
     "output_type": "stream",
     "text": [
      "Epoch 1/50\n",
      "184/184 [==============================] - 5s 10ms/step - loss: 0.0692 - root_mean_squared_error: 0.2631 - val_loss: 6.6184e-04 - val_root_mean_squared_error: 0.0257\n",
      "Epoch 2/50\n",
      "184/184 [==============================] - 1s 5ms/step - loss: 5.5733e-04 - root_mean_squared_error: 0.0236 - val_loss: 2.6892e-04 - val_root_mean_squared_error: 0.0164\n",
      "Epoch 3/50\n",
      "184/184 [==============================] - 1s 5ms/step - loss: 2.0830e-04 - root_mean_squared_error: 0.0144 - val_loss: 7.7770e-05 - val_root_mean_squared_error: 0.0088\n",
      "Epoch 4/50\n",
      "184/184 [==============================] - 1s 5ms/step - loss: 1.4044e-04 - root_mean_squared_error: 0.0119 - val_loss: 8.3039e-05 - val_root_mean_squared_error: 0.0091\n",
      "Epoch 5/50\n",
      "184/184 [==============================] - 1s 5ms/step - loss: 1.3467e-04 - root_mean_squared_error: 0.0116 - val_loss: 7.5715e-05 - val_root_mean_squared_error: 0.0087\n",
      "Epoch 6/50\n",
      "184/184 [==============================] - 1s 5ms/step - loss: 1.3612e-04 - root_mean_squared_error: 0.0117 - val_loss: 7.1776e-05 - val_root_mean_squared_error: 0.0085\n",
      "Epoch 7/50\n",
      "184/184 [==============================] - 1s 4ms/step - loss: 1.3734e-04 - root_mean_squared_error: 0.0117 - val_loss: 7.2037e-05 - val_root_mean_squared_error: 0.0085\n",
      "Epoch 8/50\n",
      "184/184 [==============================] - 1s 8ms/step - loss: 1.3573e-04 - root_mean_squared_error: 0.0117 - val_loss: 7.5093e-05 - val_root_mean_squared_error: 0.0087\n",
      "Epoch 9/50\n",
      "184/184 [==============================] - 1s 4ms/step - loss: 1.3657e-04 - root_mean_squared_error: 0.0117 - val_loss: 7.1324e-05 - val_root_mean_squared_error: 0.0084\n",
      "Epoch 10/50\n",
      "184/184 [==============================] - 1s 3ms/step - loss: 1.4088e-04 - root_mean_squared_error: 0.0119 - val_loss: 7.4395e-05 - val_root_mean_squared_error: 0.0086\n",
      "Epoch 11/50\n",
      "184/184 [==============================] - 1s 3ms/step - loss: 1.4843e-04 - root_mean_squared_error: 0.0122 - val_loss: 7.0934e-05 - val_root_mean_squared_error: 0.0084\n",
      "Epoch 12/50\n",
      "184/184 [==============================] - 1s 3ms/step - loss: 1.3634e-04 - root_mean_squared_error: 0.0117 - val_loss: 8.9148e-05 - val_root_mean_squared_error: 0.0094\n",
      "Epoch 13/50\n",
      "184/184 [==============================] - 1s 3ms/step - loss: 1.3990e-04 - root_mean_squared_error: 0.0118 - val_loss: 7.9619e-05 - val_root_mean_squared_error: 0.0089\n",
      "Epoch 14/50\n",
      "184/184 [==============================] - 1s 3ms/step - loss: 1.4766e-04 - root_mean_squared_error: 0.0122 - val_loss: 2.0061e-04 - val_root_mean_squared_error: 0.0142\n",
      "Epoch 15/50\n",
      "184/184 [==============================] - 1s 3ms/step - loss: 1.3901e-04 - root_mean_squared_error: 0.0118 - val_loss: 7.3293e-05 - val_root_mean_squared_error: 0.0086\n",
      "Epoch 16/50\n",
      "184/184 [==============================] - 1s 3ms/step - loss: 1.4602e-04 - root_mean_squared_error: 0.0121 - val_loss: 1.2043e-04 - val_root_mean_squared_error: 0.0110\n",
      "Epoch 17/50\n",
      "184/184 [==============================] - 1s 3ms/step - loss: 1.4098e-04 - root_mean_squared_error: 0.0119 - val_loss: 8.9226e-05 - val_root_mean_squared_error: 0.0094\n",
      "Epoch 18/50\n",
      "184/184 [==============================] - 1s 3ms/step - loss: 1.5195e-04 - root_mean_squared_error: 0.0123 - val_loss: 7.0396e-05 - val_root_mean_squared_error: 0.0084\n",
      "Epoch 19/50\n",
      "184/184 [==============================] - 1s 3ms/step - loss: 1.4779e-04 - root_mean_squared_error: 0.0122 - val_loss: 6.8483e-05 - val_root_mean_squared_error: 0.0083\n",
      "Epoch 20/50\n",
      "184/184 [==============================] - 1s 3ms/step - loss: 1.3567e-04 - root_mean_squared_error: 0.0116 - val_loss: 6.8322e-05 - val_root_mean_squared_error: 0.0083\n",
      "Epoch 21/50\n",
      "184/184 [==============================] - 1s 3ms/step - loss: 1.3640e-04 - root_mean_squared_error: 0.0117 - val_loss: 8.3810e-05 - val_root_mean_squared_error: 0.0092\n",
      "Epoch 22/50\n",
      "184/184 [==============================] - 1s 3ms/step - loss: 1.4015e-04 - root_mean_squared_error: 0.0118 - val_loss: 8.3587e-05 - val_root_mean_squared_error: 0.0091\n",
      "Epoch 23/50\n",
      "184/184 [==============================] - 1s 3ms/step - loss: 1.4096e-04 - root_mean_squared_error: 0.0119 - val_loss: 6.8433e-05 - val_root_mean_squared_error: 0.0083\n",
      "Epoch 24/50\n",
      "184/184 [==============================] - 1s 3ms/step - loss: 1.4956e-04 - root_mean_squared_error: 0.0122 - val_loss: 7.6331e-05 - val_root_mean_squared_error: 0.0087\n",
      "Epoch 25/50\n",
      "184/184 [==============================] - 1s 3ms/step - loss: 1.4533e-04 - root_mean_squared_error: 0.0121 - val_loss: 7.0481e-05 - val_root_mean_squared_error: 0.0084\n",
      "Epoch 26/50\n",
      "184/184 [==============================] - 1s 3ms/step - loss: 1.4159e-04 - root_mean_squared_error: 0.0119 - val_loss: 6.6209e-05 - val_root_mean_squared_error: 0.0081\n",
      "Epoch 27/50\n",
      "184/184 [==============================] - 1s 3ms/step - loss: 1.5376e-04 - root_mean_squared_error: 0.0124 - val_loss: 1.6104e-04 - val_root_mean_squared_error: 0.0127\n",
      "Epoch 28/50\n",
      "184/184 [==============================] - 1s 3ms/step - loss: 1.4069e-04 - root_mean_squared_error: 0.0119 - val_loss: 6.5353e-05 - val_root_mean_squared_error: 0.0081\n",
      "Epoch 29/50\n",
      "184/184 [==============================] - 1s 3ms/step - loss: 1.4341e-04 - root_mean_squared_error: 0.0120 - val_loss: 7.0639e-05 - val_root_mean_squared_error: 0.0084\n",
      "Epoch 30/50\n",
      "184/184 [==============================] - 1s 3ms/step - loss: 1.7174e-04 - root_mean_squared_error: 0.0131 - val_loss: 1.3406e-04 - val_root_mean_squared_error: 0.0116\n",
      "Epoch 31/50\n",
      "184/184 [==============================] - 1s 3ms/step - loss: 1.4439e-04 - root_mean_squared_error: 0.0120 - val_loss: 6.2725e-05 - val_root_mean_squared_error: 0.0079\n",
      "Epoch 32/50\n",
      "184/184 [==============================] - 1s 3ms/step - loss: 1.4657e-04 - root_mean_squared_error: 0.0121 - val_loss: 1.3361e-04 - val_root_mean_squared_error: 0.0116\n",
      "Epoch 33/50\n",
      "184/184 [==============================] - 1s 3ms/step - loss: 1.3281e-04 - root_mean_squared_error: 0.0115 - val_loss: 6.2725e-05 - val_root_mean_squared_error: 0.0079\n",
      "Epoch 34/50\n",
      "184/184 [==============================] - 0s 3ms/step - loss: 1.4771e-04 - root_mean_squared_error: 0.0122 - val_loss: 1.1769e-04 - val_root_mean_squared_error: 0.0108\n",
      "Epoch 35/50\n",
      "184/184 [==============================] - 1s 3ms/step - loss: 1.3157e-04 - root_mean_squared_error: 0.0115 - val_loss: 6.5628e-05 - val_root_mean_squared_error: 0.0081\n",
      "Epoch 36/50\n",
      "184/184 [==============================] - 1s 3ms/step - loss: 1.3318e-04 - root_mean_squared_error: 0.0115 - val_loss: 8.2460e-05 - val_root_mean_squared_error: 0.0091\n",
      "Epoch 37/50\n",
      "184/184 [==============================] - 1s 3ms/step - loss: 1.3535e-04 - root_mean_squared_error: 0.0116 - val_loss: 1.3578e-04 - val_root_mean_squared_error: 0.0117\n",
      "Epoch 38/50\n",
      "184/184 [==============================] - 1s 3ms/step - loss: 1.2797e-04 - root_mean_squared_error: 0.0113 - val_loss: 8.9661e-05 - val_root_mean_squared_error: 0.0095\n",
      "Epoch 39/50\n",
      "184/184 [==============================] - 1s 3ms/step - loss: 1.3269e-04 - root_mean_squared_error: 0.0115 - val_loss: 6.1345e-05 - val_root_mean_squared_error: 0.0078\n",
      "Epoch 40/50\n",
      "184/184 [==============================] - 1s 3ms/step - loss: 1.3162e-04 - root_mean_squared_error: 0.0115 - val_loss: 6.0138e-05 - val_root_mean_squared_error: 0.0078\n",
      "Epoch 41/50\n",
      "184/184 [==============================] - 1s 3ms/step - loss: 1.3455e-04 - root_mean_squared_error: 0.0116 - val_loss: 9.7830e-05 - val_root_mean_squared_error: 0.0099\n",
      "Epoch 42/50\n",
      "184/184 [==============================] - 0s 3ms/step - loss: 1.3488e-04 - root_mean_squared_error: 0.0116 - val_loss: 6.3045e-05 - val_root_mean_squared_error: 0.0079\n",
      "Epoch 43/50\n",
      "184/184 [==============================] - 0s 3ms/step - loss: 1.1894e-04 - root_mean_squared_error: 0.0109 - val_loss: 8.9572e-05 - val_root_mean_squared_error: 0.0095\n",
      "Epoch 44/50\n",
      "184/184 [==============================] - 1s 3ms/step - loss: 1.3629e-04 - root_mean_squared_error: 0.0117 - val_loss: 5.5832e-05 - val_root_mean_squared_error: 0.0075\n",
      "Epoch 45/50\n",
      "184/184 [==============================] - 1s 3ms/step - loss: 1.2825e-04 - root_mean_squared_error: 0.0113 - val_loss: 5.7797e-05 - val_root_mean_squared_error: 0.0076\n",
      "Epoch 46/50\n",
      "184/184 [==============================] - 0s 3ms/step - loss: 1.1205e-04 - root_mean_squared_error: 0.0106 - val_loss: 6.1585e-05 - val_root_mean_squared_error: 0.0078\n",
      "Epoch 47/50\n",
      "184/184 [==============================] - 0s 2ms/step - loss: 1.3199e-04 - root_mean_squared_error: 0.0115 - val_loss: 1.2026e-04 - val_root_mean_squared_error: 0.0110\n",
      "Epoch 48/50\n",
      "184/184 [==============================] - 1s 4ms/step - loss: 1.2265e-04 - root_mean_squared_error: 0.0111 - val_loss: 5.5104e-05 - val_root_mean_squared_error: 0.0074\n",
      "Epoch 49/50\n",
      "184/184 [==============================] - 1s 3ms/step - loss: 1.1700e-04 - root_mean_squared_error: 0.0108 - val_loss: 5.7140e-05 - val_root_mean_squared_error: 0.0076\n",
      "Epoch 50/50\n",
      "184/184 [==============================] - 1s 3ms/step - loss: 1.1967e-04 - root_mean_squared_error: 0.0109 - val_loss: 7.0590e-05 - val_root_mean_squared_error: 0.0084\n"
     ]
    },
    {
     "data": {
      "text/plain": [
       "<keras.callbacks.History at 0x22b8f7e49a0>"
      ]
     },
     "execution_count": 9,
     "metadata": {},
     "output_type": "execute_result"
    }
   ],
   "execution_count": 9
  },
  {
   "metadata": {},
   "cell_type": "markdown",
   "source": "# Testing",
   "id": "f9da6ec75a6f57df"
  },
  {
   "metadata": {
    "ExecuteTime": {
     "end_time": "2024-10-20T09:20:07.277115Z",
     "start_time": "2024-10-20T09:20:03.241896Z"
    }
   },
   "cell_type": "code",
   "source": [
    "from keras.models import load_model\n",
    "model = load_model('models/model.h5')"
   ],
   "id": "83ce7ccf4772f8d9",
   "outputs": [],
   "execution_count": 10
  },
  {
   "metadata": {
    "ExecuteTime": {
     "end_time": "2024-10-20T10:12:25.109900Z",
     "start_time": "2024-10-20T10:12:24.834637Z"
    }
   },
   "cell_type": "code",
   "source": [
    "from matplotlib import pyplot as plt\n",
    "\n",
    "\n",
    "# plot the test data\n",
    "def plot_predictions(model, X, y, start=0, end=100):\n",
    "    y_predictions = model.predict(X)\n",
    "    # convert to df\n",
    "    df_y_predictions = pd.DataFrame(y_predictions.flatten(), columns=['Predictions Price'])\n",
    "    df_y_actuals = pd.DataFrame(y.flatten(), columns=['Actuals Price'])\n",
    "    df_dates = pd.DataFrame(dates_test, columns=['Timestamp'])\n",
    "    # Combine actual and predicted prices into a single DataFrame\n",
    "    df = pd.DataFrame({'Timestamp': df_dates['Timestamp'],\n",
    "                       'Predictions Price': df_y_predictions['Predictions Price'],\n",
    "                       'Actuals Price': df_y_actuals['Actuals Price']})\n",
    "    # Set TIME_PERIOD as index\n",
    "    # df.set_index('Timestamp', inplace=True)\n",
    "    \n",
    "    # # Plot the data\n",
    "    # plt.figure(figsize=(10,6))\n",
    "    plt.plot(df['Predictions Price'])\n",
    "    plt.plot(df['Actuals Price'])\n",
    "    plt.legend(['Prediction', 'Actual'])\n",
    "    plt.title('Predicted vs Actual Prices')\n",
    "    plt.show()\n",
    "    \n",
    "    # Return the DataFrame for further inspection\n",
    "    return df\n",
    "\n",
    "df = plot_predictions(model, X_test, y_test)"
   ],
   "id": "9db3706ecbf76de6",
   "outputs": [
    {
     "name": "stdout",
     "output_type": "stream",
     "text": [
      "3/3 [==============================] - 0s 2ms/step\n"
     ]
    },
    {
     "data": {
      "text/plain": [
       "<Figure size 640x480 with 1 Axes>"
      ],
      "image/png": "[encoded data removed]"
     },
     "metadata": {},
     "output_type": "display_data"
    }
   ],
   "execution_count": 43
  },
  {
   "metadata": {
    "ExecuteTime": {
     "end_time": "2024-10-20T10:26:47.206364Z",
     "start_time": "2024-10-20T10:26:47.197388Z"
    }
   },
   "cell_type": "code",
   "source": [
    "# Find entry and exit points\n",
    "# We only trade the global min and max of the forecast\n",
    "min_global = df['Predictions Price'].min()\n",
    "max_global = df['Predictions Price'].max()\n",
    "\n",
    "# Finding the corresponding timestamps\n",
    "min_time = df.loc[df['Predictions Price'] == min_global, 'Timestamp'].values[0]\n",
    "max_time = df.loc[df['Predictions Price'] == max_global, 'Timestamp'].values[0]\n",
    "\n",
    "print(f\"Global Minimum: {min_global} at {min_time}\")\n",
    "print(f\"Global Maximum: {max_global} at {max_time}\")"
   ],
   "id": "ec5dac41eaa227db",
   "outputs": [
    {
     "name": "stdout",
     "output_type": "stream",
     "text": [
      "Global Minimum: 1.0802773237228394 at 2024-07-29T00:00:00.000000000\n",
      "Global Maximum: 1.1155058145523071 at 2024-09-24T00:00:00.000000000\n"
     ]
    }
   ],
   "execution_count": 49
  }
 ],
 "metadata": {
  "kernelspec": {
   "display_name": "Python 3",
   "language": "python",
   "name": "python3"
  },
  "language_info": {
   "codemirror_mode": {
    "name": "ipython",
    "version": 2
   },
   "file_extension": ".py",
   "mimetype": "text/x-python",
   "name": "python",
   "nbconvert_exporter": "python",
   "pygments_lexer": "ipython2",
   "version": "2.7.6"
  }
 },
 "nbformat": 4,
 "nbformat_minor": 5
}
